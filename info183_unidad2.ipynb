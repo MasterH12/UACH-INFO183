{
 "cells": [
  {
   "cell_type": "code",
   "execution_count": null,
   "metadata": {
    "slideshow": {
     "slide_type": "skip"
    }
   },
   "outputs": [],
   "source": [
    "%%HTML\n",
    "<!-- Make fonts readable at 1024x768 -->\n",
    "<style>\n",
    ".rendered_html { font-size:0.5em; }\n",
    "</style>"
   ]
  },
  {
   "cell_type": "code",
   "execution_count": 1,
   "metadata": {
    "slideshow": {
     "slide_type": "skip"
    }
   },
   "outputs": [],
   "source": [
    "# Imports and matplotlib configuration\n",
    "import numpy as np\n",
    "import scipy.signal\n",
    "%matplotlib notebook\n",
    "import matplotlib.pylab as plt\n",
    "from matplotlib import animation, rcParams\n",
    "from ipywidgets import interact, FloatSlider, IntSlider, SelectionSlider, Layout, Button, Output, Box\n",
    "from IPython.display import display, Audio, HTML\n",
    "import soundfile as sf\n",
    "\n",
    "# Default options for matplotlib plots\n",
    "rcParams['figure.dpi'] = 80\n",
    "rcParams['font.size'] = 14\n",
    "rcParams['axes.grid'] = True\n",
    "rcParams['lines.linewidth'] = 2.0\n",
    "rcParams['legend.framealpha'] = 0.5\n",
    "rcParams['legend.fontsize'] = 'medium'\n",
    "rcParams['figure.titlesize'] = 'medium'\n",
    "rcParams['figure.autolayout'] = True\n",
    "# rcParams['animation.html'] = 'html5'\n",
    "slider_layout = Layout(width='600px', height='20px')\n",
    "slider_style = {'description_width': 'initial'}\n",
    "from functools import partial\n",
    "FloatSlider_nice = partial(FloatSlider, style=slider_style, layout=slider_layout, continuous_update=False)\n",
    "IntSlider_nice = partial(IntSlider, style=slider_style, layout=slider_layout, continuous_update=False)\n",
    "SelectionSlider_nice = partial(SelectionSlider, style=slider_style, layout=slider_layout, continuous_update=False)\n",
    "\n",
    "# Optional: Set options for slide theme and transition\n",
    "from traitlets.config.manager import BaseJSONConfigManager\n",
    "path = \"/home/phuijse/.jupyter/nbconfig/\"\n",
    "cm = BaseJSONConfigManager(config_dir=path)\n",
    "cm.update('livereveal', {\n",
    "    'theme': 'simple',\n",
    "    'transition': 'fast',\n",
    "    'start_slideshow_at': 'selected',\n",
    "    'width': 1024,\n",
    "    'height': 768,\n",
    "    'scroll': True,\n",
    "    'center': False\n",
    "});"
   ]
  },
  {
   "cell_type": "markdown",
   "metadata": {
    "slideshow": {
     "slide_type": "slide"
    }
   },
   "source": [
    "### Universidad Austral de Chile \n",
    "## INFO183: Análisis de sistemas lineales\n",
    "\n",
    "\n",
    "# Unidad 2: Herramientas de análisis de señales\n",
    "\n",
    "### Dr. Pablo Huijse, phuijse at inf dot uach dot cl \n",
    "\n",
    "### <a href=\"https://github.com/phuijse/UACH-INFO183\"> github.com/phuijse/UACH-INFO183 </a>\n"
   ]
  },
  {
   "cell_type": "markdown",
   "metadata": {
    "slideshow": {
     "slide_type": "slide"
    }
   },
   "source": [
    "# Contenidos de la unidad\n",
    "\n",
    "1. [Representación por serie de Fourier](#section1)\n",
    "1. Transformada de Fourier y sus propiedades\n",
    "1. Principio de incertidumbre\n",
    "1. Transformada de Fourier discreta (DFT) y sus propiedades\n",
    "1. Efectos del muestreo y del enventanado\n",
    "1. Transformada rápida de Fourier (FFT)\n",
    "1. Espectrograma con Transformada de Fourier short-time\n",
    "1. Detección y comparación de señales\n",
    "1. Autocorrelación y correlación cruzada\n",
    "1. Espectro de potencia y periodograma\n",
    "1. Teorema de Wiener-Khinchin\n",
    "1. Detección de señales con Match filter\n",
    "1. Limpieza de señales con filtro de Wiener\n"
   ]
  },
  {
   "cell_type": "code",
   "execution_count": null,
   "metadata": {},
   "outputs": [],
   "source": []
  }
 ],
 "metadata": {
  "celltoolbar": "Slideshow",
  "kernelspec": {
   "display_name": "Python 3",
   "language": "python",
   "name": "python3"
  },
  "language_info": {
   "codemirror_mode": {
    "name": "ipython",
    "version": 3
   },
   "file_extension": ".py",
   "mimetype": "text/x-python",
   "name": "python",
   "nbconvert_exporter": "python",
   "pygments_lexer": "ipython3",
   "version": "3.7.0"
  }
 },
 "nbformat": 4,
 "nbformat_minor": 2
}
