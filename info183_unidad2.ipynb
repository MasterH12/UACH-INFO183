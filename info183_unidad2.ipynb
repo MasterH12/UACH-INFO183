{
 "cells": [
  {
   "cell_type": "code",
   "execution_count": null,
   "metadata": {
    "slideshow": {
     "slide_type": "skip"
    }
   },
   "outputs": [],
   "source": [
    "%%HTML\n",
    "<!-- Make fonts readable at 1024x768 -->\n",
    "<style>\n",
    ".rendered_html { font-size:0.5em; }\n",
    "</style>"
   ]
  },
  {
   "cell_type": "code",
   "execution_count": null,
   "metadata": {
    "slideshow": {
     "slide_type": "skip"
    }
   },
   "outputs": [],
   "source": [
    "# Imports and matplotlib configuration\n",
    "import numpy as np\n",
    "import scipy.signal\n",
    "%matplotlib notebook\n",
    "import matplotlib.pylab as plt\n",
    "from matplotlib import animation, rcParams\n",
    "from ipywidgets import interact, FloatSlider, IntSlider, SelectionSlider, Layout, Button, Output, Box\n",
    "from IPython.display import display, Audio, HTML\n",
    "import soundfile as sf\n",
    "\n",
    "# Default options for matplotlib plots\n",
    "rcParams['figure.dpi'] = 80\n",
    "rcParams['font.size'] = 14\n",
    "rcParams['axes.grid'] = True\n",
    "rcParams['lines.linewidth'] = 2.0\n",
    "rcParams['legend.framealpha'] = 0.5\n",
    "rcParams['legend.fontsize'] = 'medium'\n",
    "rcParams['figure.titlesize'] = 'medium'\n",
    "rcParams['figure.autolayout'] = True\n",
    "# rcParams['animation.html'] = 'html5'\n",
    "slider_layout = Layout(width='600px', height='20px')\n",
    "slider_style = {'description_width': 'initial'}\n",
    "from functools import partial\n",
    "FloatSlider_nice = partial(FloatSlider, style=slider_style, layout=slider_layout, continuous_update=False)\n",
    "IntSlider_nice = partial(IntSlider, style=slider_style, layout=slider_layout, continuous_update=False)\n",
    "SelectionSlider_nice = partial(SelectionSlider, style=slider_style, layout=slider_layout, continuous_update=False)\n",
    "\n",
    "# Optional: Set options for slide theme and transition\n",
    "from traitlets.config.manager import BaseJSONConfigManager\n",
    "path = \"/home/phuijse/.jupyter/nbconfig/\"\n",
    "cm = BaseJSONConfigManager(config_dir=path)\n",
    "cm.update('livereveal', {\n",
    "    'theme': 'simple',\n",
    "    'transition': 'fast',\n",
    "    'start_slideshow_at': 'selected',\n",
    "    'width': 1024,\n",
    "    'height': 768,\n",
    "    'scroll': True,\n",
    "    'center': False\n",
    "});"
   ]
  },
  {
   "cell_type": "markdown",
   "metadata": {
    "slideshow": {
     "slide_type": "slide"
    }
   },
   "source": [
    "### Universidad Austral de Chile \n",
    "## INFO183: Análisis de sistemas lineales\n",
    "\n",
    "\n",
    "# Unidad 2: Herramientas de análisis de señales\n",
    "\n",
    "### Dr. Pablo Huijse, phuijse at inf dot uach dot cl \n",
    "\n",
    "### <a href=\"https://github.com/phuijse/UACH-INFO183\"> github.com/phuijse/UACH-INFO183 </a>\n"
   ]
  },
  {
   "cell_type": "markdown",
   "metadata": {
    "slideshow": {
     "slide_type": "slide"
    }
   },
   "source": [
    "# Contenidos de la unidad\n",
    "\n",
    "1. [Representación por serie de Fourier](#section1)\n",
    "1. Transformada de Fourier y sus propiedades\n",
    "1. Principio de incertidumbre\n",
    "1. Transformada de Fourier discreta (DFT) y sus propiedades\n",
    "1. Efectos del muestreo y del enventanado\n",
    "1. Transformada rápida de Fourier (FFT)\n",
    "1. Espectrograma con Transformada de Fourier short-time\n",
    "1. Detección y comparación de señales\n",
    "1. Autocorrelación y correlación cruzada\n",
    "1. Espectro de potencia y periodograma\n",
    "1. Teorema de Wiener-Khinchin\n",
    "1. Detección de señales con Match filter\n",
    "1. Limpieza de señales con filtro de Wiener\n"
   ]
  },
  {
   "cell_type": "markdown",
   "metadata": {
    "slideshow": {
     "slide_type": "slide"
    }
   },
   "source": [
    "<a id=\"section1\"></a>\n",
    "\n",
    "# Espectro\n",
    "\n",
    "- Isaac Newton llamó **espectros** a los componentes que forman la luz blanca y que normalmente no se pueden ver\n",
    "- Newton mostró usando prismas que la luz blanca pueden descomponerse en colores y viceverza\n",
    "- Hoy entendemos que la luz como onda tiene una frecuencia asociada y que cada color es una frecuencia particular\n",
    "\n",
    "\n",
    "| <img src=\"img/fourier-newton.jpg\">  | <img src=\"img/fourier-prism.jpg\" width=\"75%\">  |\n",
    "|:-:|:-:|\n",
    "\n",
    "- Paradojicamente, Newton nunca acepto que esto se debía a la frecuencia de la radiación ya que creía en la teoría corpuscular de la luz\n"
   ]
  },
  {
   "cell_type": "markdown",
   "metadata": {
    "slideshow": {
     "slide_type": "subslide"
    }
   },
   "source": [
    "## Onda\n",
    "\n",
    "- Es una perturbación que transporta energía a través del espacio\n",
    "- Es una oscilación o vibración de un medio físico o campo\n",
    "- Se describe (tipicamente) por su frecuencia (período), amplitud y desfase\n",
    "\n",
    "**Onda electromagnética** \n",
    "- Oscilaciones en el campo eléctrico y magnético\n",
    "- Transporta energía electromágnetica radiativa\n",
    "- Dependiendo de su frecuencia se clasifican como:\n",
    "<img src=\"img/fourier-colors.jpg\">"
   ]
  },
  {
   "cell_type": "markdown",
   "metadata": {
    "slideshow": {
     "slide_type": "subslide"
    }
   },
   "source": [
    "## Componentes frecuenciales y harmónicos\n",
    "\n",
    "- Una sinusoide es una función del tiempo completamente descrita por su amplitud $A$, frecuencia $f$ y fase $\\phi$\n",
    "\n",
    "$$\n",
    "s(t) = A \\cos (2 \\pi f t + \\phi)\n",
    "$$\n",
    "\n",
    "*Ejercicio:* Explique intuitivamente como estos parámetros afectan a $s(t)$ "
   ]
  },
  {
   "cell_type": "markdown",
   "metadata": {
    "slideshow": {
     "slide_type": "fragment"
    }
   },
   "source": [
    "- El recíproco de la frecuencia es el período $P= \\frac{1}{f}$\n",
    "- Notemos que una señal que es períodica en $\\frac{P}{k} ~ \\forall k \\in \\mathbb{N}$ también lo es en $P$\n",
    "- Llamamos a $f=1/P$ la **frecuencia fundamental**\n",
    "- Llamamos a $f_k = kf = k/P ~~ \\forall k \\in \\mathbb{N}$ el **k-esimo armónico de $f$**"
   ]
  },
  {
   "cell_type": "code",
   "execution_count": null,
   "metadata": {
    "slideshow": {
     "slide_type": "fragment"
    }
   },
   "outputs": [],
   "source": [
    "plt.close('all'); fig, ax = plt.subplots(figsize=(7, 3))\n",
    "f = 1.51518\n",
    "t = np.linspace(0, 2/f, num=500); x = np.cos(2.0*np.pi*f*t)\n",
    "ax.plot(t, x, label='fundamental')\n",
    "line = ax.plot(t, x, label='k-th harmonic'); ax.legend(loc=4)\n",
    "ax.set_xticks([0, 1/f, 2/f]); ax.set_xticklabels([\"0\", \"1/f\", \"2/f\"]);\n",
    "update = lambda k: line[0].set_ydata(np.cos(2.0*np.pi*t*f*k))\n",
    "interact(update, k=SelectionSlider_nice(options=[2, 3, 4, 5, 6]));"
   ]
  },
  {
   "cell_type": "markdown",
   "metadata": {
    "slideshow": {
     "slide_type": "subslide"
    }
   },
   "source": [
    "- Si sumamos dos sinusoides con amplitudes arbitrarias pero con igual frecuencia fundamental $f$ [Hz], la suma también es periódica con fundamental $f$ [Hz]\n",
    "- La suma puede ser una señal periódica arbitraria (no trigonométrica)"
   ]
  },
  {
   "cell_type": "code",
   "execution_count": null,
   "metadata": {
    "slideshow": {
     "slide_type": "fragment"
    }
   },
   "outputs": [],
   "source": [
    "plt.close('all'); fig, ax = plt.subplots(figsize=(7, 3))\n",
    "f = 1.51518\n",
    "t = np.linspace(0, 3/f, num=500); x = np.cos(2.0*np.pi*f*t)\n",
    "line = ax.plot(t, 2*x)\n",
    "ax.set_xticks([0, 1/f, 2/f, 3/f]); ax.set_xticklabels([\"0\", \"1/f\", \"2/f\", \"3/f\"]);\n",
    "ax.set_title(r\"$\\cos(2\\pi t f) + A \\cos(2\\pi t k f)$\")\n",
    "update = lambda k, A: line[0].set_ydata(x + A*np.cos(2.0*np.pi*t*f*k))\n",
    "interact(update, k=SelectionSlider_nice(options=[2, 3, 4, 5, 6]), \n",
    "         A=FloatSlider_nice(min=0.5, max=1.0, value=0.5));"
   ]
  },
  {
   "cell_type": "markdown",
   "metadata": {
    "slideshow": {
     "slide_type": "subslide"
    }
   },
   "source": [
    "- Dependiendo de los armónicos que incorporemos podemos reproducir distintas señales periódicas"
   ]
  },
  {
   "cell_type": "code",
   "execution_count": null,
   "metadata": {
    "slideshow": {
     "slide_type": "fragment"
    }
   },
   "outputs": [],
   "source": [
    "plt.close('all'); fig, ax = plt.subplots(figsize=(6, 4))\n",
    "f = 1.51518; t = np.linspace(-2/f, 2/f, num=5000); \n",
    "line = ax.plot(t, np.zeros_like(t))\n",
    "ax.set_xticks([-2/f, -1/f, 0, 1/f, 2/f]); \n",
    "ax.set_xticklabels([\"-2/f\", \"-1/f\", \"0\", \"1/f\", \"2/f\"]);\n",
    "ax.set_title(r\"$s_K(t) = \\sum_{k=1}^K \\frac{(-1)^k \\cos(2\\pi t (2k-1) f)}{(2k-1)}$\")\n",
    "def update(K):\n",
    "    y = np.zeros_like(t)\n",
    "    for k in range(1, K+1):\n",
    "        y += np.cos(2.0*np.pi*(2*k-1)*f*t)/(2*k-1)*(-1)**k\n",
    "    line[0].set_ydata(y); ax.set_ylim([np.amin(y)*1.1, np.amax(y)*1.1])\n",
    "interact(update, K=SelectionSlider_nice(options=[1, 2, 3, 4, 5, 10, 20, 30, 50, 100]));"
   ]
  },
  {
   "cell_type": "code",
   "execution_count": null,
   "metadata": {
    "slideshow": {
     "slide_type": "fragment"
    }
   },
   "outputs": [],
   "source": [
    "plt.close('all'); fig, ax = plt.subplots(figsize=(6, 4))\n",
    "f = 1.51518; t = np.linspace(-2/f, 2/f, num=5000); \n",
    "line = ax.plot(t, np.zeros_like(t))\n",
    "ax.set_xticks([-2/f, -1/f, 0, 1/f, 2/f]); \n",
    "ax.set_xticklabels([\"-2/f\", \"-1/f\", \"0\", \"1/f\", \"2/f\"]);\n",
    "ax.set_title(r\"$s_K(t) = \\sum_{k=1}^K \\frac{\\sin(2\\pi t k f)}{k}$\")\n",
    "def update(K):\n",
    "    y = np.zeros_like(t)\n",
    "    for k in range(1, K+1):\n",
    "        y += np.sin(2.0*np.pi*k*f*t)/k\n",
    "    line[0].set_ydata(y); ax.set_ylim([np.amin(y)*1.1, np.amax(y)*1.1])\n",
    "interact(update, K=SelectionSlider_nice(options=[1, 2, 3, 4, 5, 10, 20, 30, 50, 100]));"
   ]
  },
  {
   "cell_type": "markdown",
   "metadata": {
    "slideshow": {
     "slide_type": "subslide"
    }
   },
   "source": [
    "- Las funciones coseno y seno son par e impar, respectivamente\n",
    "- ¿Cómo podemos construir una señal periódica que no es par ni impar?\n",
    "- Consideremos la siguiente forma general\n",
    "\\begin{align}\n",
    "s(t) &= \\sum_{k=0}^\\infty A_k \\cos(2\\pi k f t + \\phi_k) \\nonumber \\\\\n",
    "&= \\sum_{k=0}^\\infty a_k \\cos(2\\pi k f t) + b_k \\sin(2\\pi k f t),\n",
    "\\end{align}\n",
    "donde $a_k = A_k \\cos(\\phi_k)$ y $b_k = -A_k \\sin(\\phi_k)$ se obtienen de $\\cos(x+y) = \\cos(x)\\cos(y) - \\sin(x)\\sin(y)$\n",
    "- De esta forma $s(t)$ puede ser cualquier función real periódica con período $P=1/f$\n",
    "- Esto se conoce como **serie trigonométrica** "
   ]
  },
  {
   "cell_type": "code",
   "execution_count": null,
   "metadata": {
    "slideshow": {
     "slide_type": "fragment"
    }
   },
   "outputs": [],
   "source": [
    "plt.close('all'); fig, ax = plt.subplots(figsize=(6, 4))\n",
    "f = 1.51518; t = np.linspace(-2/f, 2/f, num=5000); \n",
    "line = ax.plot(t, np.zeros_like(t))\n",
    "ax.set_xticks([-2/f, -1/f, 0, 1/f, 2/f]); \n",
    "ax.set_xticklabels([\"-2/f\", \"-1/f\", \"0\", \"1/f\", \"2/f\"]);\n",
    "def update(K):\n",
    "    y = np.zeros_like(t)\n",
    "    for k in range(1, K+1):\n",
    "        y += np.cos(2.0*np.pi*k*f*t)/k + (-1)**k*np.sin(2.0*np.pi*(2*k-1)*f*t)/(2*k-1)\n",
    "    line[0].set_ydata(y); ax.set_ylim([np.amin(y)*1.1, np.amax(y)*1.1])\n",
    "interact(update, K=SelectionSlider_nice(options=[1, 2, 3, 4, 5, 10, 20, 30, 50, 100]));"
   ]
  },
  {
   "cell_type": "markdown",
   "metadata": {
    "slideshow": {
     "slide_type": "slide"
    }
   },
   "source": [
    "## Apéndice: Números complejos\n",
    "\n",
    "Sea z un número complejo, lo podemos escribir en forma cartesiana \n",
    "$$\n",
    "z = \\Re[z] + j \\Im[z] = a + j b\n",
    "$$\n",
    "donde $a \\in \\mathbb{R}$, $b \\in \\mathbb{R}$ y $j = \\sqrt{-1}$ es el número imaginario.\n",
    "\n",
    "\n",
    "También podemos escribirlo en forma polar\n",
    "$$\n",
    "z = c e^{j\\phi} = c \\cos(\\phi) + j c \\sin(\\phi)\n",
    "$$\n",
    "donde \n",
    "- $c = |z| = \\sqrt{a^2 + b^2} \\in [0, \\infty]$ es la magnitud \n",
    "- $\\phi = \\angle z = \\tan^{-1} \\left (\\frac{b}{a} \\right) \\in [-\\frac{\\pi}{2}, \\frac{\\pi}{2}]$ es el ángulo\n",
    "- $a = c \\cos(\\phi)$\n",
    "- $b = c\\sin(\\phi)$\n",
    "\n",
    "se pueden escribir las siguientes relaciones \n",
    "\n",
    "$$\n",
    "\\cos(\\phi) = \\frac{1}{2} (e^{j\\phi} + e^{-j\\phi}) ~\\wedge~ \\sin(\\phi) = \\frac{1}{2j} (e^{j\\phi} - e^{-j\\phi})\n",
    "$$\n",
    "\n",
    "el complejo conjugado de $z = a + j b = c e^{j\\phi}$ es\n",
    "$$\n",
    "z^* = a - jb = c e^{-j\\phi}\n",
    "$$"
   ]
  },
  {
   "cell_type": "code",
   "execution_count": null,
   "metadata": {
    "slideshow": {
     "slide_type": "fragment"
    }
   },
   "outputs": [],
   "source": [
    "from matplotlib import patches\n",
    "plt.close('all'); fig, ax = plt.subplots(figsize=(4, 4))\n",
    "my_arrow = partial(ax.arrow, x=0, y=0, width=0.02, length_includes_head=True, linewidth=0)\n",
    "my_arrow(dx=np.sqrt(0.5), dy=np.sqrt(0.5)); my_arrow(dx=1, dy=0); my_arrow(dx=0, dy=1)\n",
    "ax.text(x=-0.2, y=1.0, s=\"Imag\", fontsize=30); ax.text(x=1.0, y=-0.0, s=\"Re\", fontsize=30);\n",
    "ax.text(x=-0.15, y=np.sqrt(0.5), s=\"b\", fontsize=30); ax.text(x=np.sqrt(0.5), y=-.15, s=\"a\", fontsize=30);\n",
    "ax.text(x=0.2, y=0.5, s=\"$|z|$\", fontsize=30, rotation=45.); ax.text(x=0.3, y=0.1, s=\"$\\phi$\", fontsize=30);\n",
    "ax.plot([0, np.sqrt(0.5)], [np.sqrt(0.5), np.sqrt(0.5)],'k--');\n",
    "ax.plot([np.sqrt(0.5), np.sqrt(0.5)], [0, np.sqrt(0.5)],'k--')\n",
    "p = patches.Circle(xy=(0, 0), radius=1, alpha=0.1); ax.set_xticks([]); ax.set_yticks([])\n",
    "ax.scatter([0, np.sqrt(0.5)], [np.sqrt(0.5), 0], c='k', s=200);\n",
    "ax.add_artist(p); plt.xlim([-0.25 , 1.25]); plt.ylim([-0.2 , 1.2]);"
   ]
  },
  {
   "cell_type": "markdown",
   "metadata": {
    "slideshow": {
     "slide_type": "subslide"
    }
   },
   "source": [
    "# Serie de Fourier\n",
    "\n",
    "- En 1807 *Jean Baptiste Joseph Fourier* presenta un teorema indicando que una función periódica arbitraria con periódo $P=1/f$ puede representarse como una suma ponderada de senos y cosenos\n",
    "- La serie de Fourier (FS) para una función compleja se define como\n",
    "$$\n",
    "s(t) = \\sum_{k=-\\infty}^{\\infty} c_k e^{j 2\\pi kf t}, ~~ c_k \\in \\mathbb{C}\n",
    "$$\n"
   ]
  },
  {
   "cell_type": "markdown",
   "metadata": {
    "slideshow": {
     "slide_type": "fragment"
    }
   },
   "source": [
    "La serie trigonométrica es el caso particular de la FS para una función real\n",
    "\\begin{align}\n",
    "s(t) &= \\sum_{k=-\\infty}^{\\infty} c_k e^{j 2\\pi kf t} \\nonumber \\\\\n",
    "&= \\sum_{k=1}^{\\infty} c_{-k} e^{-j 2\\pi kf t} + c_0 + \\sum_{k=1}^{\\infty} c_{k} e^{j 2\\pi kf t} \\\\\n",
    "&= \\sum_{k=1}^{\\infty} \\left(c_{k} e^{j 2\\pi kf t}\\right)^* + c_0 + \\sum_{k=1}^{\\infty} c_{k} e^{j 2\\pi kf t} \\\\\n",
    "&= c_0 + 2 \\sum_{k=1}^{\\infty} \\Re [ c_{k} e^{j 2\\pi kf t} ]\\\\\n",
    "&= \\sum_{k=0}^{\\infty} A_k \\cos({j 2\\pi kf t + \\phi_k} )\\\\\n",
    "\\end{align}\n",
    "en la última equivalencia reconocemos\n",
    "$$\n",
    "c_k = \\begin{cases}  \\frac{1}{2} A_k e^{j\\phi_k} & k> 0 \\\\ A_0 & k = 0 \\\\ c_{|k|}* & k < 0\\end{cases}\n",
    "$$"
   ]
  },
  {
   "cell_type": "markdown",
   "metadata": {
    "slideshow": {
     "slide_type": "subslide"
    }
   },
   "source": [
    "## Bases generadoras\n",
    " - Una base es un conjunto de un espacio vectorial\n",
    " - Los elementos de la base son linealmente independientes\n",
    " - Todos los elementos del espacio pueden expresarse como una combinación lineal de la base\n",
    " \n",
    "Considere el espacio vectorial $\\mathbb{R}^3$. El siguiente conjunto \n",
    "\n",
    "$$\n",
    "\\left \\{ v_1=\\begin{pmatrix} 1 \\\\ 0 \\\\ 0 \\end{pmatrix}, v_2= \\begin{pmatrix} 0 \\\\ 1 \\\\ 0 \\end{pmatrix}, v_3=\\begin{pmatrix} 0 \\\\ 0 \\\\ 1 \\end{pmatrix}\\right \\},\n",
    "$$\n",
    "\n",
    "es una base generadora de $\\mathbb{R}^3$, es decir un vector cualquiera $\\vec a = (a_1, a_2, a_3) \\in \\mathbb{R}^3$ se puede representar como \n",
    "\n",
    "$$\n",
    "\\vec a = a_1 v_1 + a_2 v_2 + a_3 v_3.\n",
    "$$\n",
    "\n",
    "Un conjunto ortonormal siempre es linealmente independiente"
   ]
  },
  {
   "cell_type": "markdown",
   "metadata": {
    "slideshow": {
     "slide_type": "subslide"
    }
   },
   "source": [
    "El conjunto de funciones \n",
    "\n",
    "$$\n",
    "v_k (t) = \\frac{1}{\\sqrt{P}} e^{j2\\pi k t / P} ~~ \\forall k \\in \\mathbb{Z}\n",
    "$$\n",
    "\n",
    "cumple \n",
    "\n",
    "$$\n",
    "\\langle v_n (t), v_m (t) \\rangle = \\int_0^P v_n (t) v_m^* (t) dt = \\frac{1}{P} \\int_0^P e^{j2\\pi (n-m)t/P} dt =\\begin{cases}1 & n=m \\\\ 0 & n \\neq m\\end{cases}\n",
    "$$\n",
    "\n",
    "*i.e.* es un conjunto ortonormal  en el espacio de funciones periódicas con periódo $P$\n",
    "\n",
    "Esto es facilmente comprobable si estudiamos\n",
    "\n",
    "$$\n",
    "\\int_0^P e^{j2\\pi k t / P} dt = \\int_0^P \\cos(2\\pi k t/P) dt + j \\int_0^P \\sin(2\\pi k t/P) dt \n",
    "$$"
   ]
  },
  {
   "cell_type": "code",
   "execution_count": null,
   "metadata": {
    "slideshow": {
     "slide_type": "fragment"
    }
   },
   "outputs": [],
   "source": [
    "plt.close('all'); fig, ax = plt.subplots(figsize=(6, 3))\n",
    "dt=1e-4; P=1.1234; t = np.arange(0, P, step=dt);\n",
    "line = ax.plot(t, np.zeros_like(t)); ax.set_ylim([-1.2, 1.2])\n",
    "harmonic = lambda k: np.cos(2.0*np.pi*k*t/P)\n",
    "def update(k):\n",
    "    ax.cla(); ax.set_ylim([-1.2, 1.2])\n",
    "    ax.plot(t, harmonic(k), 'k--')\n",
    "    ax.fill_between(t, 0, harmonic(k), harmonic(k)>0, color='b', alpha=0.5)\n",
    "    ax.fill_between(t, 0, harmonic(k), harmonic(k)<0, color='r', alpha=0.5)\n",
    "    ax.set_title(\"$\\int s dt$ = %e\" %(np.sum(harmonic(k)*dt)))\n",
    "interact(update, k=IntSlider_nice(min=0, max=10, value=1));"
   ]
  },
  {
   "cell_type": "markdown",
   "metadata": {
    "slideshow": {
     "slide_type": "skip"
    }
   },
   "source": [
    "propiedad generadora?"
   ]
  },
  {
   "cell_type": "markdown",
   "metadata": {
    "slideshow": {
     "slide_type": "subslide"
    }
   },
   "source": [
    "### Síntesis\n",
    "\n",
    "$$\n",
    "s(t) = \\sum_{k=-\\infty}^{\\infty} c_k e^{j 2\\pi k t/P} \n",
    "$$\n",
    "\n",
    "### Análisis\n",
    "\n",
    "\\begin{align}\n",
    "\\langle s(t),  v_m(t) \\rangle &= \\int_0^P s(t) e^{-j 2\\pi m t/ P} dt \\nonumber \\\\\n",
    "&= \\int_0^P \\sum_{k=-\\infty}^{\\infty} c_k e^{j 2\\pi k t/P} e^{-j 2\\pi m t/P} dt \\nonumber \\\\\n",
    "&= \\sum_{k=-\\infty}^{\\infty} c_k  \\int_0^P e^{j 2\\pi (k-m) t/P}  dt \\nonumber \\\\\n",
    "&=  c_m  P \\nonumber \\\\\n",
    "\\end{align}\n",
    "\n",
    "Es decir los coeficientes de la FS se encuentran usando\n",
    "\n",
    "$$\n",
    "c_m = \\frac{1}{P} \\int_0^P s(t) e^{-j 2\\pi m t/P} dt\n",
    "$$"
   ]
  },
  {
   "cell_type": "markdown",
   "metadata": {
    "slideshow": {
     "slide_type": "subslide"
    }
   },
   "source": [
    "### Ejemplo: FS de señal cuadrada\n",
    "\n",
    "Sea \n",
    "$$\n",
    "s(t) = \\begin{cases} 1 & t \\in[0, \\frac{P}{2}] \\\\ -1 & t \\in [\\frac{P}{2}, P] \\end{cases}\n",
    "$$\n",
    "Los coeficientes de su FS son\n",
    "$$\n",
    "c_0 = \\frac{1}{P} \\int_0^P s(t) dt = 0\n",
    "$$\n",
    "\n",
    "\\begin{align}\n",
    "c_k &= \\frac{1}{P} \\int_0^\\frac{P}{2} e^{-j2\\pi kt/P} dt  - \\frac{1}{P}  \\int_\\frac{P}{2}^P e^{-j2\\pi kt/P} dt  \\nonumber \\\\  \n",
    "&= \\frac{1 - e^{j\\pi k}}{P} \\int_0^\\frac{P}{2} e^{-j2\\pi kt/P} dt \\nonumber \\\\\n",
    "&=  \\frac{1 - (-1)^k}{j \\pi k} \\nonumber \\\\\n",
    "\\end{align}\n",
    "\n",
    "Notemos que los coeficientes \n",
    "- sólo tienen parte imaginaria\n",
    "- sólo son distintos de cero para armónicos impares"
   ]
  },
  {
   "cell_type": "code",
   "execution_count": null,
   "metadata": {
    "slideshow": {
     "slide_type": "fragment"
    }
   },
   "outputs": [],
   "source": [
    "plt.close('all'); fig, ax = plt.subplots(figsize=(6, 4))\n",
    "f = 1.51518; t = np.linspace(-2/f, 2/f, num=5000); \n",
    "line = ax.plot(t, np.zeros_like(t))\n",
    "ax.set_xticks([-2/f, -1/f, 0, 1/f, 2/f]); \n",
    "ax.set_xticklabels([\"-2/f\", \"-1/f\", \"0\", \"1/f\", \"2/f\"]);\n",
    "def update(K):\n",
    "    y = np.zeros_like(t)\n",
    "    for k in range(1, K+1):\n",
    "        y += 2*(1-(-1)**k)*np.sin(2.0*np.pi*t*k/P)/(np.pi*k)\n",
    "    line[0].set_ydata(y); ax.set_ylim([np.amin(y)*1.1, np.amax(y)*1.1])\n",
    "interact(update, K=SelectionSlider_nice(options=[1, 2, 3, 4, 5, 10, 20, 30, 50, 100]));"
   ]
  },
  {
   "cell_type": "code",
   "execution_count": null,
   "metadata": {
    "slideshow": {
     "slide_type": "fragment"
    }
   },
   "outputs": [],
   "source": [
    "plt.close('all'); fig, ax = plt.subplots(figsize=(6, 4))\n",
    "k = np.arange(-10, 10, step=1).astype('float')\n",
    "ax.stem(k, (1-(-1)**k)/(np.pi*k+1e-10), basefmt=\" \")\n",
    "ax.set_xticks(range(-10, 10, 2)); ax.set_xlabel(\"k\");"
   ]
  },
  {
   "cell_type": "markdown",
   "metadata": {
    "slideshow": {
     "slide_type": "subslide"
    }
   },
   "source": [
    "## Propiedades\n",
    "\n",
    "- Si $s(t)$ es par entonces $c_k$ es par\n",
    "- Si $s(t)$ es impar entonces $c_k$ es impar\n",
    "- Si $s(t + P/2) = -s(t)$ (antiperiódica) entonces $c_k=0 $ para k par\n",
    "- Si $s(t)$ es real y par entonces $c_k$ es real y par\n",
    "- Si $s(t)$ es real e impar entonces $c_k$ es imaginario e impar\n",
    "- Una señal antisimétrica/impar sólo tiene componentes imaginarios\n",
    "- La FS es lineal\n",
    "- **Teorema de Parseval:** La potencia de una señal puede calcularse a partir de sus compoenentes\n",
    "$$\n",
    "E_s = \\frac{1}{P} \\int_0^P |s(t)|^2 dt = \\sum_{k=-\\infty}^\\infty |c_k|^2\n",
    "$$"
   ]
  },
  {
   "cell_type": "markdown",
   "metadata": {
    "slideshow": {
     "slide_type": "subslide"
    }
   },
   "source": [
    "Visualización interactiva de la FS: https://bl.ocks.org/jinroh/7524988"
   ]
  },
  {
   "cell_type": "markdown",
   "metadata": {
    "slideshow": {
     "slide_type": "subslide"
    }
   },
   "source": [
    "## Convergencia de la serie de Fourier\n",
    "\n",
    "Para una serie periódica con periódo $P$, si\n",
    "1. Es absolutamente integrable: $\\int_0^P |s(t)| dt < \\infty$\n",
    "1. Tiene un número finito de extremos\n",
    "1. Tiene un número finito de discontinuidades\n",
    "\n",
    "entonces su FS converge para todo tiempo, excepto en las discontinuidades donde converge al punto medio.\n",
    "\n",
    "\n",
    "- Estos tres puntos se conocen como *Condiciones de Dirichlet*\n",
    "- **Fenomeno de Gibbs:** Una discontinuidad requiere ancho de banda infinito, por ende no puede reproducirse con un número finito de términos (vea el ejemplo de la señal cuadrada)"
   ]
  },
  {
   "cell_type": "code",
   "execution_count": null,
   "metadata": {},
   "outputs": [],
   "source": []
  }
 ],
 "metadata": {
  "celltoolbar": "Slideshow",
  "kernelspec": {
   "display_name": "Python 3",
   "language": "python",
   "name": "python3"
  },
  "language_info": {
   "codemirror_mode": {
    "name": "ipython",
    "version": 3
   },
   "file_extension": ".py",
   "mimetype": "text/x-python",
   "name": "python",
   "nbconvert_exporter": "python",
   "pygments_lexer": "ipython3",
   "version": "3.7.0"
  }
 },
 "nbformat": 4,
 "nbformat_minor": 2
}
