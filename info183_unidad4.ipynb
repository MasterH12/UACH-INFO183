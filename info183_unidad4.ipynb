{
 "cells": [
  {
   "cell_type": "code",
   "execution_count": null,
   "metadata": {
    "slideshow": {
     "slide_type": "skip"
    }
   },
   "outputs": [],
   "source": [
    "%%HTML\n",
    "<!-- Make fonts readable at 1024x768 -->\n",
    "<style>\n",
    ".rendered_html { font-size:0.7em; }\n",
    "</style>"
   ]
  },
  {
   "cell_type": "code",
   "execution_count": null,
   "metadata": {
    "slideshow": {
     "slide_type": "skip"
    }
   },
   "outputs": [],
   "source": [
    "# Imports and matplotlib configuration\n",
    "import numpy as np\n",
    "import scipy.signal\n",
    "from scipy import fftpack\n",
    "%matplotlib notebook\n",
    "import matplotlib.pylab as plt\n",
    "from matplotlib import animation, rcParams, patches\n",
    "from ipywidgets import interact, FloatSlider, IntSlider, SelectionSlider, Layout, Button, Output, Box\n",
    "from IPython.display import display, Audio, HTML\n",
    "import soundfile as sf\n",
    "\n",
    "# Default options for matplotlib plots\n",
    "rcParams['figure.dpi'] = 80\n",
    "rcParams['font.size'] = 14\n",
    "rcParams['axes.grid'] = True\n",
    "rcParams['lines.linewidth'] = 2.0\n",
    "rcParams['legend.framealpha'] = 0.5\n",
    "rcParams['legend.fontsize'] = 'medium'\n",
    "rcParams['figure.titlesize'] = 'medium'\n",
    "rcParams['figure.autolayout'] = True\n",
    "#rcParams['animation.html'] = 'html5'\n",
    "slider_layout = Layout(width='500px', height='20px')\n",
    "slider_style = {'description_width': 'initial'}\n",
    "from functools import partial\n",
    "FloatSlider_nice = partial(FloatSlider, style=slider_style, layout=slider_layout, continuous_update=False)\n",
    "IntSlider_nice = partial(IntSlider, style=slider_style, layout=slider_layout, continuous_update=False)\n",
    "SelectionSlider_nice = partial(SelectionSlider, style=slider_style, layout=slider_layout, continuous_update=False)\n",
    "\n",
    "# Optional: Set options for slide theme and transition\n",
    "from traitlets.config.manager import BaseJSONConfigManager\n",
    "path = \"/home/phuijse/.jupyter/nbconfig/\"\n",
    "cm = BaseJSONConfigManager(config_dir=path)\n",
    "cm.update('livereveal', {\n",
    "    'theme': 'simple',\n",
    "    'transition': 'fast',\n",
    "    'start_slideshow_at': 'selected',\n",
    "    'width': 1024,\n",
    "    'height': 768,\n",
    "    'scroll': True,\n",
    "    'center': False\n",
    "});\n",
    "\n",
    "def clean_4_audio(y):\n",
    "    if np.amax(np.absolute(y)) > 1.:\n",
    "        return y/np.amax(np.absolute(y))\n",
    "    else:\n",
    "        return np.concatenate((y, [1, -1]))"
   ]
  },
  {
   "cell_type": "markdown",
   "metadata": {
    "slideshow": {
     "slide_type": "slide"
    }
   },
   "source": [
    "### Universidad Austral de Chile \n",
    "\n",
    "## INFO183: Análisis de sistemas lineales\n",
    "\n",
    "# Unidad 4: Sistemas y filtros adaptivos\n",
    "\n",
    "### Dr. Pablo Huijse, phuijse at inf dot uach dot cl \n",
    "\n",
    "### <a href=\"https://github.com/phuijse/UACH-INFO183\"> github.com/phuijse/UACH-INFO183 </a>\n"
   ]
  },
  {
   "cell_type": "markdown",
   "metadata": {
    "slideshow": {
     "slide_type": "slide"
    }
   },
   "source": [
    "***\n",
    "<a id=\"index\"></a>\n",
    "\n",
    "# Contenidos de la unidad\n",
    "\n",
    "***\n",
    "\n",
    "1. [Definición de sistema](#section1)\n",
    "1. [Sistema FIR](#section2)\n",
    "1. [Sistemas LTI y filtros](#section3)\n",
    "1. [Sistema IIR](#section4)\n",
    "1. [Transformada Z](#section5)"
   ]
  },
  {
   "cell_type": "markdown",
   "metadata": {},
   "source": [
    "***\n",
    "\n",
    "# Contenidos de la unidad\n",
    "\n",
    "***\n",
    "\n",
    "1. Detección y comparación de señales\n",
    "1. Espectro de potencia y Teorema de Wiener-Khinchin\n",
    "1. Detección de señales con Match filter\n",
    "1. Limpieza de señales con filtro de Wiener"
   ]
  },
  {
   "cell_type": "markdown",
   "metadata": {},
   "source": [
    "[&larr; Volver al índice](#index)"
   ]
  },
  {
   "cell_type": "markdown",
   "metadata": {},
   "source": [
    "***\n",
    "\n",
    "<a id=\"section1\"></a>\n",
    "\n",
    "# Detección y comparación de señales en el tiempo\n",
    "\n",
    "***\n",
    "\n"
   ]
  },
  {
   "cell_type": "markdown",
   "metadata": {},
   "source": [
    "https://www.commsp.ee.ic.ac.uk/~mandic/SE_ASP_LN/ASP_MI_Lecture_5_Adaptive_Filters_2017.pdf\n",
    "\n",
    "\n",
    "http://www.cnel.ufl.edu/news/invited_talks/principe2011_asilomar.pdf\n",
    "\n",
    "http://www1.ece.neu.edu/~erdogmus/publications/J043_SPM_ITLreview.pdf\n",
    "\n",
    "http://www.cs.tut.fi/~tabus/course/ASP/LectureNew10.pdf\n",
    "\n",
    "https://share.cocalc.com/share/7557a5ac1c870f1ec8f01271959b16b49df9d087/Kalman-and-Bayesian-Filters-in-Python/14-Adaptive-Filtering.ipynb?viewer=share\n",
    "\n",
    "https://www.eit.lth.se/fileadmin/eit/courses/ett042/CE/CE5e.pdf\n",
    "\n",
    "http://www.ee.cityu.edu.hk/~hcso/it6303_4.pdf\n",
    "\n",
    "https://www.sparkfun.com/news/2208\n",
    "\n",
    "http://blog.audio-tk.com/2017/03/28/audio-toolkit-recursive-least-square-filter-adaptive-module/\n",
    "\n",
    "https://www.dummies.com/education/science/science-engineering/analysis-and-design-of-the-fir-and-iir-notch-filters/\n",
    "\n",
    "https://stackoverflow.com/questions/35565540/designing-an-fir-notch-filter-with-python\n",
    "\n",
    "http://www.cs.tut.fi/~tabus/course/ASP/Lectures_ASP.html\n",
    "\n",
    "https://www.commsp.ee.ic.ac.uk/~mandic/LMS_Kalman_IEEE_SPM_2015.pdf\n",
    "\n",
    "homes.esat.kuleuven.be/~tvanwate/courses/.../DSP2_slides_04_adaptievefiltering.pdf\n",
    "\n",
    "https://pdfs.semanticscholar.org/aa48/98919244e59159bd276109b10dfbaa5dedf1.pdf\n",
    "\n"
   ]
  },
  {
   "cell_type": "markdown",
   "metadata": {},
   "source": [
    "\n",
    "    Modelado de señales\n",
    "    Algoritmo Least Mean Squares (LMS)\n",
    "    Cancelación de ruido y eco, Ecualización adaptiva\n",
    "    Algoritmo Recursive Least Squares (RLS)\n",
    "    Filtro de Kalman\n",
    "    \n",
    "    https://scipy-cookbook.readthedocs.io/items/KalmanFiltering.html\n",
    "    \n",
    "    \n",
    "    Algoritmos KLMS y KRLS\n"
   ]
  },
  {
   "cell_type": "code",
   "execution_count": null,
   "metadata": {},
   "outputs": [],
   "source": []
  }
 ],
 "metadata": {
  "celltoolbar": "Slideshow",
  "kernelspec": {
   "display_name": "Python 3",
   "language": "python",
   "name": "python3"
  },
  "language_info": {
   "codemirror_mode": {
    "name": "ipython",
    "version": 3
   },
   "file_extension": ".py",
   "mimetype": "text/x-python",
   "name": "python",
   "nbconvert_exporter": "python",
   "pygments_lexer": "ipython3",
   "version": "3.7.0"
  }
 },
 "nbformat": 4,
 "nbformat_minor": 2
}
